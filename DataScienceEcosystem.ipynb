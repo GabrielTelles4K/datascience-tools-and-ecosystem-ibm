{
 "cells": [
  {
   "cell_type": "markdown",
   "id": "3e946670-41e6-44e4-acf2-54ed8b9e2970",
   "metadata": {},
   "source": [
    "# Data Science Tools and Ecosystem"
   ]
  },
  {
   "cell_type": "markdown",
   "id": "ae2ead0d-0910-4680-9e45-6bf375567fdd",
   "metadata": {},
   "source": [
    "In this notebook, Data Science Tools and Ecosystem are summarized."
   ]
  },
  {
   "cell_type": "markdown",
   "id": "ec7ba238-ea24-47a8-98d6-b7a9ba8f10b2",
   "metadata": {},
   "source": [
    "**Objectives:**\n",
    "- List popular languages for Data Science\n",
    "- List commonly used libraries\n",
    "- List some Open-source tools for Data Science\n",
    "- List some arithmetic calculations"
   ]
  },
  {
   "cell_type": "markdown",
   "id": "a4e8b00c-8d70-4c64-9670-78d734f10133",
   "metadata": {},
   "source": [
    "Some of the popular languages that Data Scientists use are:\n",
    "\n",
    "1. Python\n",
    "2. R\n",
    "3. SQL\n",
    "4. Scala\n",
    "5. Julia\n",
    "6. GO"
   ]
  },
  {
   "cell_type": "markdown",
   "id": "07c61e50-e466-4f2a-955f-fe7364b0e528",
   "metadata": {},
   "source": [
    "Some of the commonly used libraries used by Data Scientists include:\n",
    "\n",
    "1. Pandas\n",
    "2. NumPy\n",
    "3. Mayplotlib\n",
    "4. Seaborn\n",
    "5. Scikit-learn\n",
    "6. Keras"
   ]
  },
  {
   "cell_type": "markdown",
   "id": "574cc118-877f-4cd2-a5bc-b6e53f506fde",
   "metadata": {},
   "source": [
    "| Data Science Tools |\n",
    "| -- |\n",
    "| MySQL |\n",
    "| Cassandra |\n",
    "| Apache Airflow |"
   ]
  },
  {
   "cell_type": "markdown",
   "id": "ac54a58c-b881-4c32-86df-fe9c1b56f1be",
   "metadata": {},
   "source": [
    "### Below a few examples of evaluating arithmetic in Python"
   ]
  },
  {
   "cell_type": "code",
   "execution_count": 1,
   "id": "48eab95b-c6e3-48a3-8db1-b8674694ee85",
   "metadata": {},
   "outputs": [
    {
     "data": {
      "text/plain": [
       "17"
      ]
     },
     "execution_count": 1,
     "metadata": {},
     "output_type": "execute_result"
    }
   ],
   "source": [
    "# This is a simple arithmetic expression to mutiply then add integers\n",
    "(3*4)+5"
   ]
  },
  {
   "cell_type": "code",
   "execution_count": 2,
   "id": "aaf39c40-36ba-46fa-bf41-ac898d436f87",
   "metadata": {},
   "outputs": [
    {
     "data": {
      "text/plain": [
       "3.3333333333333335"
      ]
     },
     "execution_count": 2,
     "metadata": {},
     "output_type": "execute_result"
    }
   ],
   "source": [
    "# This will convert 200 minutes to hours by diving by 60\n",
    "200/60"
   ]
  },
  {
   "cell_type": "markdown",
   "id": "ff5308fb-dd8e-4de0-a7b4-3b0f8833f89e",
   "metadata": {},
   "source": [
    "## Author\n",
    "Gabriel Barreto Carvalho Telles"
   ]
  }
 ],
 "metadata": {
  "kernelspec": {
   "display_name": "Python [conda env:base] *",
   "language": "python",
   "name": "conda-base-py"
  },
  "language_info": {
   "codemirror_mode": {
    "name": "ipython",
    "version": 3
   },
   "file_extension": ".py",
   "mimetype": "text/x-python",
   "name": "python",
   "nbconvert_exporter": "python",
   "pygments_lexer": "ipython3",
   "version": "3.11.5"
  }
 },
 "nbformat": 4,
 "nbformat_minor": 5
}
